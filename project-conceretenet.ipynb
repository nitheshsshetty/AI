{
 "cells": [
  {
   "cell_type": "markdown",
   "metadata": {},
   "source": [
    "<a id=\"item31\"></a>\n"
   ]
  },
  {
   "cell_type": "markdown",
   "metadata": {},
   "source": [
    "## Analysing the concerete data set using Regression NN model \n"
   ]
  },
  {
   "cell_type": "markdown",
   "metadata": {},
   "source": [
    "Let's start by importing the <em>pandas</em> and the Numpy libraries.\n"
   ]
  },
  {
   "cell_type": "code",
   "execution_count": 208,
   "metadata": {
    "tags": []
   },
   "outputs": [],
   "source": [
    "import pandas as pd\n",
    "import numpy as np"
   ]
  },
  {
   "cell_type": "markdown",
   "metadata": {},
   "source": [
    "We will be playing around with the same dataset that we used in the videos.\n",
    "\n",
    "<strong>The dataset is about the compressive strength of different samples of concrete based on the volumes of the different ingredients that were used to make them. Ingredients include:</strong>\n",
    "\n",
    "<strong>1. Cement</strong>\n",
    "\n",
    "<strong>2. Blast Furnace Slag</strong>\n",
    "\n",
    "<strong>3. Fly Ash</strong>\n",
    "\n",
    "<strong>4. Water</strong>\n",
    "\n",
    "<strong>5. Superplasticizer</strong>\n",
    "\n",
    "<strong>6. Coarse Aggregate</strong>\n",
    "\n",
    "<strong>7. Fine Aggregate</strong>\n"
   ]
  },
  {
   "cell_type": "markdown",
   "metadata": {},
   "source": [
    "Let's download the data and read it into a <em>pandas</em> dataframe.\n"
   ]
  },
  {
   "cell_type": "code",
   "execution_count": 209,
   "metadata": {
    "tags": []
   },
   "outputs": [
    {
     "data": {
      "text/html": [
       "<div>\n",
       "<style scoped>\n",
       "    .dataframe tbody tr th:only-of-type {\n",
       "        vertical-align: middle;\n",
       "    }\n",
       "\n",
       "    .dataframe tbody tr th {\n",
       "        vertical-align: top;\n",
       "    }\n",
       "\n",
       "    .dataframe thead th {\n",
       "        text-align: right;\n",
       "    }\n",
       "</style>\n",
       "<table border=\"1\" class=\"dataframe\">\n",
       "  <thead>\n",
       "    <tr style=\"text-align: right;\">\n",
       "      <th></th>\n",
       "      <th>Cement</th>\n",
       "      <th>Blast Furnace Slag</th>\n",
       "      <th>Fly Ash</th>\n",
       "      <th>Water</th>\n",
       "      <th>Superplasticizer</th>\n",
       "      <th>Coarse Aggregate</th>\n",
       "      <th>Fine Aggregate</th>\n",
       "      <th>Age</th>\n",
       "      <th>Strength</th>\n",
       "    </tr>\n",
       "  </thead>\n",
       "  <tbody>\n",
       "    <tr>\n",
       "      <th>0</th>\n",
       "      <td>540.0</td>\n",
       "      <td>0.0</td>\n",
       "      <td>0.0</td>\n",
       "      <td>162.0</td>\n",
       "      <td>2.5</td>\n",
       "      <td>1040.0</td>\n",
       "      <td>676.0</td>\n",
       "      <td>28</td>\n",
       "      <td>79.99</td>\n",
       "    </tr>\n",
       "    <tr>\n",
       "      <th>1</th>\n",
       "      <td>540.0</td>\n",
       "      <td>0.0</td>\n",
       "      <td>0.0</td>\n",
       "      <td>162.0</td>\n",
       "      <td>2.5</td>\n",
       "      <td>1055.0</td>\n",
       "      <td>676.0</td>\n",
       "      <td>28</td>\n",
       "      <td>61.89</td>\n",
       "    </tr>\n",
       "    <tr>\n",
       "      <th>2</th>\n",
       "      <td>332.5</td>\n",
       "      <td>142.5</td>\n",
       "      <td>0.0</td>\n",
       "      <td>228.0</td>\n",
       "      <td>0.0</td>\n",
       "      <td>932.0</td>\n",
       "      <td>594.0</td>\n",
       "      <td>270</td>\n",
       "      <td>40.27</td>\n",
       "    </tr>\n",
       "    <tr>\n",
       "      <th>3</th>\n",
       "      <td>332.5</td>\n",
       "      <td>142.5</td>\n",
       "      <td>0.0</td>\n",
       "      <td>228.0</td>\n",
       "      <td>0.0</td>\n",
       "      <td>932.0</td>\n",
       "      <td>594.0</td>\n",
       "      <td>365</td>\n",
       "      <td>41.05</td>\n",
       "    </tr>\n",
       "    <tr>\n",
       "      <th>4</th>\n",
       "      <td>198.6</td>\n",
       "      <td>132.4</td>\n",
       "      <td>0.0</td>\n",
       "      <td>192.0</td>\n",
       "      <td>0.0</td>\n",
       "      <td>978.4</td>\n",
       "      <td>825.5</td>\n",
       "      <td>360</td>\n",
       "      <td>44.30</td>\n",
       "    </tr>\n",
       "  </tbody>\n",
       "</table>\n",
       "</div>"
      ],
      "text/plain": [
       "   Cement  Blast Furnace Slag  Fly Ash  Water  Superplasticizer  \\\n",
       "0   540.0                 0.0      0.0  162.0               2.5   \n",
       "1   540.0                 0.0      0.0  162.0               2.5   \n",
       "2   332.5               142.5      0.0  228.0               0.0   \n",
       "3   332.5               142.5      0.0  228.0               0.0   \n",
       "4   198.6               132.4      0.0  192.0               0.0   \n",
       "\n",
       "   Coarse Aggregate  Fine Aggregate  Age  Strength  \n",
       "0            1040.0           676.0   28     79.99  \n",
       "1            1055.0           676.0   28     61.89  \n",
       "2             932.0           594.0  270     40.27  \n",
       "3             932.0           594.0  365     41.05  \n",
       "4             978.4           825.5  360     44.30  "
      ]
     },
     "execution_count": 209,
     "metadata": {},
     "output_type": "execute_result"
    }
   ],
   "source": [
    "concrete_data = pd.read_csv('https://s3-api.us-geo.objectstorage.softlayer.net/cf-courses-data/CognitiveClass/DL0101EN/labs/data/concrete_data.csv')\n",
    "concrete_data.head()\n",
    "#print(type(concrete_data))"
   ]
  },
  {
   "cell_type": "markdown",
   "metadata": {},
   "source": [
    "So the first concrete sample has 540 cubic meter of cement, 0 cubic meter of blast furnace slag, 0 cubic meter of fly ash, 162 cubic meter of water, 2.5 cubic meter of superplaticizer, 1040 cubic meter of coarse aggregate, 676 cubic meter of fine aggregate. Such a concrete mix which is 28 days old, has a compressive strength of 79.99 MPa. \n"
   ]
  },
  {
   "cell_type": "markdown",
   "metadata": {},
   "source": [
    "#### Let's check how many data points we have.\n"
   ]
  },
  {
   "cell_type": "code",
   "execution_count": 210,
   "metadata": {
    "tags": []
   },
   "outputs": [
    {
     "data": {
      "text/plain": [
       "(1030, 9)"
      ]
     },
     "execution_count": 210,
     "metadata": {},
     "output_type": "execute_result"
    }
   ],
   "source": [
    "concrete_data.shape"
   ]
  },
  {
   "cell_type": "markdown",
   "metadata": {},
   "source": [
    "So, there are approximately 1000 samples to train our model on. Because of the few samples, we have to be careful not to overfit the training data.\n"
   ]
  },
  {
   "cell_type": "markdown",
   "metadata": {},
   "source": [
    "Let's check the dataset for any missing values.\n"
   ]
  },
  {
   "cell_type": "code",
   "execution_count": 211,
   "metadata": {
    "tags": []
   },
   "outputs": [
    {
     "data": {
      "text/html": [
       "<div>\n",
       "<style scoped>\n",
       "    .dataframe tbody tr th:only-of-type {\n",
       "        vertical-align: middle;\n",
       "    }\n",
       "\n",
       "    .dataframe tbody tr th {\n",
       "        vertical-align: top;\n",
       "    }\n",
       "\n",
       "    .dataframe thead th {\n",
       "        text-align: right;\n",
       "    }\n",
       "</style>\n",
       "<table border=\"1\" class=\"dataframe\">\n",
       "  <thead>\n",
       "    <tr style=\"text-align: right;\">\n",
       "      <th></th>\n",
       "      <th>Cement</th>\n",
       "      <th>Blast Furnace Slag</th>\n",
       "      <th>Fly Ash</th>\n",
       "      <th>Water</th>\n",
       "      <th>Superplasticizer</th>\n",
       "      <th>Coarse Aggregate</th>\n",
       "      <th>Fine Aggregate</th>\n",
       "      <th>Age</th>\n",
       "      <th>Strength</th>\n",
       "    </tr>\n",
       "  </thead>\n",
       "  <tbody>\n",
       "    <tr>\n",
       "      <th>count</th>\n",
       "      <td>1030.000000</td>\n",
       "      <td>1030.000000</td>\n",
       "      <td>1030.000000</td>\n",
       "      <td>1030.000000</td>\n",
       "      <td>1030.000000</td>\n",
       "      <td>1030.000000</td>\n",
       "      <td>1030.000000</td>\n",
       "      <td>1030.000000</td>\n",
       "      <td>1030.000000</td>\n",
       "    </tr>\n",
       "    <tr>\n",
       "      <th>mean</th>\n",
       "      <td>281.167864</td>\n",
       "      <td>73.895825</td>\n",
       "      <td>54.188350</td>\n",
       "      <td>181.567282</td>\n",
       "      <td>6.204660</td>\n",
       "      <td>972.918932</td>\n",
       "      <td>773.580485</td>\n",
       "      <td>45.662136</td>\n",
       "      <td>35.817961</td>\n",
       "    </tr>\n",
       "    <tr>\n",
       "      <th>std</th>\n",
       "      <td>104.506364</td>\n",
       "      <td>86.279342</td>\n",
       "      <td>63.997004</td>\n",
       "      <td>21.354219</td>\n",
       "      <td>5.973841</td>\n",
       "      <td>77.753954</td>\n",
       "      <td>80.175980</td>\n",
       "      <td>63.169912</td>\n",
       "      <td>16.705742</td>\n",
       "    </tr>\n",
       "    <tr>\n",
       "      <th>min</th>\n",
       "      <td>102.000000</td>\n",
       "      <td>0.000000</td>\n",
       "      <td>0.000000</td>\n",
       "      <td>121.800000</td>\n",
       "      <td>0.000000</td>\n",
       "      <td>801.000000</td>\n",
       "      <td>594.000000</td>\n",
       "      <td>1.000000</td>\n",
       "      <td>2.330000</td>\n",
       "    </tr>\n",
       "    <tr>\n",
       "      <th>25%</th>\n",
       "      <td>192.375000</td>\n",
       "      <td>0.000000</td>\n",
       "      <td>0.000000</td>\n",
       "      <td>164.900000</td>\n",
       "      <td>0.000000</td>\n",
       "      <td>932.000000</td>\n",
       "      <td>730.950000</td>\n",
       "      <td>7.000000</td>\n",
       "      <td>23.710000</td>\n",
       "    </tr>\n",
       "    <tr>\n",
       "      <th>50%</th>\n",
       "      <td>272.900000</td>\n",
       "      <td>22.000000</td>\n",
       "      <td>0.000000</td>\n",
       "      <td>185.000000</td>\n",
       "      <td>6.400000</td>\n",
       "      <td>968.000000</td>\n",
       "      <td>779.500000</td>\n",
       "      <td>28.000000</td>\n",
       "      <td>34.445000</td>\n",
       "    </tr>\n",
       "    <tr>\n",
       "      <th>75%</th>\n",
       "      <td>350.000000</td>\n",
       "      <td>142.950000</td>\n",
       "      <td>118.300000</td>\n",
       "      <td>192.000000</td>\n",
       "      <td>10.200000</td>\n",
       "      <td>1029.400000</td>\n",
       "      <td>824.000000</td>\n",
       "      <td>56.000000</td>\n",
       "      <td>46.135000</td>\n",
       "    </tr>\n",
       "    <tr>\n",
       "      <th>max</th>\n",
       "      <td>540.000000</td>\n",
       "      <td>359.400000</td>\n",
       "      <td>200.100000</td>\n",
       "      <td>247.000000</td>\n",
       "      <td>32.200000</td>\n",
       "      <td>1145.000000</td>\n",
       "      <td>992.600000</td>\n",
       "      <td>365.000000</td>\n",
       "      <td>82.600000</td>\n",
       "    </tr>\n",
       "  </tbody>\n",
       "</table>\n",
       "</div>"
      ],
      "text/plain": [
       "            Cement  Blast Furnace Slag      Fly Ash        Water  \\\n",
       "count  1030.000000         1030.000000  1030.000000  1030.000000   \n",
       "mean    281.167864           73.895825    54.188350   181.567282   \n",
       "std     104.506364           86.279342    63.997004    21.354219   \n",
       "min     102.000000            0.000000     0.000000   121.800000   \n",
       "25%     192.375000            0.000000     0.000000   164.900000   \n",
       "50%     272.900000           22.000000     0.000000   185.000000   \n",
       "75%     350.000000          142.950000   118.300000   192.000000   \n",
       "max     540.000000          359.400000   200.100000   247.000000   \n",
       "\n",
       "       Superplasticizer  Coarse Aggregate  Fine Aggregate          Age  \\\n",
       "count       1030.000000       1030.000000     1030.000000  1030.000000   \n",
       "mean           6.204660        972.918932      773.580485    45.662136   \n",
       "std            5.973841         77.753954       80.175980    63.169912   \n",
       "min            0.000000        801.000000      594.000000     1.000000   \n",
       "25%            0.000000        932.000000      730.950000     7.000000   \n",
       "50%            6.400000        968.000000      779.500000    28.000000   \n",
       "75%           10.200000       1029.400000      824.000000    56.000000   \n",
       "max           32.200000       1145.000000      992.600000   365.000000   \n",
       "\n",
       "          Strength  \n",
       "count  1030.000000  \n",
       "mean     35.817961  \n",
       "std      16.705742  \n",
       "min       2.330000  \n",
       "25%      23.710000  \n",
       "50%      34.445000  \n",
       "75%      46.135000  \n",
       "max      82.600000  "
      ]
     },
     "execution_count": 211,
     "metadata": {},
     "output_type": "execute_result"
    }
   ],
   "source": [
    "concrete_data.describe()"
   ]
  },
  {
   "cell_type": "code",
   "execution_count": 212,
   "metadata": {
    "tags": []
   },
   "outputs": [
    {
     "data": {
      "text/plain": [
       "Cement                0\n",
       "Blast Furnace Slag    0\n",
       "Fly Ash               0\n",
       "Water                 0\n",
       "Superplasticizer      0\n",
       "Coarse Aggregate      0\n",
       "Fine Aggregate        0\n",
       "Age                   0\n",
       "Strength              0\n",
       "dtype: int64"
      ]
     },
     "execution_count": 212,
     "metadata": {},
     "output_type": "execute_result"
    }
   ],
   "source": [
    "concrete_data.isnull().sum()"
   ]
  },
  {
   "cell_type": "markdown",
   "metadata": {},
   "source": [
    "The data looks very clean and is ready to be used to build our model.\n"
   ]
  },
  {
   "cell_type": "markdown",
   "metadata": {},
   "source": [
    "#### Split data into predictors and target\n"
   ]
  },
  {
   "cell_type": "markdown",
   "metadata": {},
   "source": [
    "The target variable in this problem is the concrete sample strength. Therefore, our predictors will be all the other columns.\n"
   ]
  },
  {
   "cell_type": "code",
   "execution_count": 213,
   "metadata": {
    "tags": []
   },
   "outputs": [
    {
     "name": "stdout",
     "output_type": "stream",
     "text": [
      "(1030, 8)\n",
      "(1030,)\n"
     ]
    }
   ],
   "source": [
    "df_columns = concrete_data.columns\n",
    "\n",
    "#predictors = concrete_data.loc[df_columns[concrete_data_columns != 'Strength']] # all columns except Strength\n",
    "predictors = concrete_data.loc[:,df_columns != 'Strength']\n",
    "print(predictors.shape)\n",
    "target = concrete_data['Strength'] # Strength column\n",
    "print(target.shape)"
   ]
  },
  {
   "cell_type": "markdown",
   "metadata": {},
   "source": [
    "<a id=\"item2\"></a>\n"
   ]
  },
  {
   "cell_type": "markdown",
   "metadata": {},
   "source": [
    "Let's do a quick sanity check of the predictors and the target dataframes.\n"
   ]
  },
  {
   "cell_type": "code",
   "execution_count": 214,
   "metadata": {
    "tags": []
   },
   "outputs": [
    {
     "data": {
      "text/html": [
       "<div>\n",
       "<style scoped>\n",
       "    .dataframe tbody tr th:only-of-type {\n",
       "        vertical-align: middle;\n",
       "    }\n",
       "\n",
       "    .dataframe tbody tr th {\n",
       "        vertical-align: top;\n",
       "    }\n",
       "\n",
       "    .dataframe thead th {\n",
       "        text-align: right;\n",
       "    }\n",
       "</style>\n",
       "<table border=\"1\" class=\"dataframe\">\n",
       "  <thead>\n",
       "    <tr style=\"text-align: right;\">\n",
       "      <th></th>\n",
       "      <th>Cement</th>\n",
       "      <th>Blast Furnace Slag</th>\n",
       "      <th>Fly Ash</th>\n",
       "      <th>Water</th>\n",
       "      <th>Superplasticizer</th>\n",
       "      <th>Coarse Aggregate</th>\n",
       "      <th>Fine Aggregate</th>\n",
       "      <th>Age</th>\n",
       "    </tr>\n",
       "  </thead>\n",
       "  <tbody>\n",
       "    <tr>\n",
       "      <th>0</th>\n",
       "      <td>540.0</td>\n",
       "      <td>0.0</td>\n",
       "      <td>0.0</td>\n",
       "      <td>162.0</td>\n",
       "      <td>2.5</td>\n",
       "      <td>1040.0</td>\n",
       "      <td>676.0</td>\n",
       "      <td>28</td>\n",
       "    </tr>\n",
       "    <tr>\n",
       "      <th>1</th>\n",
       "      <td>540.0</td>\n",
       "      <td>0.0</td>\n",
       "      <td>0.0</td>\n",
       "      <td>162.0</td>\n",
       "      <td>2.5</td>\n",
       "      <td>1055.0</td>\n",
       "      <td>676.0</td>\n",
       "      <td>28</td>\n",
       "    </tr>\n",
       "    <tr>\n",
       "      <th>2</th>\n",
       "      <td>332.5</td>\n",
       "      <td>142.5</td>\n",
       "      <td>0.0</td>\n",
       "      <td>228.0</td>\n",
       "      <td>0.0</td>\n",
       "      <td>932.0</td>\n",
       "      <td>594.0</td>\n",
       "      <td>270</td>\n",
       "    </tr>\n",
       "    <tr>\n",
       "      <th>3</th>\n",
       "      <td>332.5</td>\n",
       "      <td>142.5</td>\n",
       "      <td>0.0</td>\n",
       "      <td>228.0</td>\n",
       "      <td>0.0</td>\n",
       "      <td>932.0</td>\n",
       "      <td>594.0</td>\n",
       "      <td>365</td>\n",
       "    </tr>\n",
       "    <tr>\n",
       "      <th>4</th>\n",
       "      <td>198.6</td>\n",
       "      <td>132.4</td>\n",
       "      <td>0.0</td>\n",
       "      <td>192.0</td>\n",
       "      <td>0.0</td>\n",
       "      <td>978.4</td>\n",
       "      <td>825.5</td>\n",
       "      <td>360</td>\n",
       "    </tr>\n",
       "  </tbody>\n",
       "</table>\n",
       "</div>"
      ],
      "text/plain": [
       "   Cement  Blast Furnace Slag  Fly Ash  Water  Superplasticizer  \\\n",
       "0   540.0                 0.0      0.0  162.0               2.5   \n",
       "1   540.0                 0.0      0.0  162.0               2.5   \n",
       "2   332.5               142.5      0.0  228.0               0.0   \n",
       "3   332.5               142.5      0.0  228.0               0.0   \n",
       "4   198.6               132.4      0.0  192.0               0.0   \n",
       "\n",
       "   Coarse Aggregate  Fine Aggregate  Age  \n",
       "0            1040.0           676.0   28  \n",
       "1            1055.0           676.0   28  \n",
       "2             932.0           594.0  270  \n",
       "3             932.0           594.0  365  \n",
       "4             978.4           825.5  360  "
      ]
     },
     "execution_count": 214,
     "metadata": {},
     "output_type": "execute_result"
    }
   ],
   "source": [
    "predictors.head()\n",
    "#predictors.mean()\n",
    "#print(predictors.std())"
   ]
  },
  {
   "cell_type": "code",
   "execution_count": 215,
   "metadata": {
    "tags": []
   },
   "outputs": [
    {
     "data": {
      "text/plain": [
       "0    79.99\n",
       "1    61.89\n",
       "2    40.27\n",
       "3    41.05\n",
       "4    44.30\n",
       "Name: Strength, dtype: float64"
      ]
     },
     "execution_count": 215,
     "metadata": {},
     "output_type": "execute_result"
    }
   ],
   "source": [
    "target.head()"
   ]
  },
  {
   "cell_type": "code",
   "execution_count": 216,
   "metadata": {
    "tags": []
   },
   "outputs": [
    {
     "data": {
      "text/html": [
       "<div>\n",
       "<style scoped>\n",
       "    .dataframe tbody tr th:only-of-type {\n",
       "        vertical-align: middle;\n",
       "    }\n",
       "\n",
       "    .dataframe tbody tr th {\n",
       "        vertical-align: top;\n",
       "    }\n",
       "\n",
       "    .dataframe thead th {\n",
       "        text-align: right;\n",
       "    }\n",
       "</style>\n",
       "<table border=\"1\" class=\"dataframe\">\n",
       "  <thead>\n",
       "    <tr style=\"text-align: right;\">\n",
       "      <th></th>\n",
       "      <th>Cement</th>\n",
       "      <th>Blast Furnace Slag</th>\n",
       "      <th>Fly Ash</th>\n",
       "      <th>Water</th>\n",
       "      <th>Superplasticizer</th>\n",
       "      <th>Coarse Aggregate</th>\n",
       "      <th>Fine Aggregate</th>\n",
       "      <th>Age</th>\n",
       "    </tr>\n",
       "  </thead>\n",
       "  <tbody>\n",
       "    <tr>\n",
       "      <th>0</th>\n",
       "      <td>2.476712</td>\n",
       "      <td>-0.856472</td>\n",
       "      <td>-0.846733</td>\n",
       "      <td>-0.916319</td>\n",
       "      <td>-0.620147</td>\n",
       "      <td>0.862735</td>\n",
       "      <td>-1.217079</td>\n",
       "      <td>-0.279597</td>\n",
       "    </tr>\n",
       "    <tr>\n",
       "      <th>1</th>\n",
       "      <td>2.476712</td>\n",
       "      <td>-0.856472</td>\n",
       "      <td>-0.846733</td>\n",
       "      <td>-0.916319</td>\n",
       "      <td>-0.620147</td>\n",
       "      <td>1.055651</td>\n",
       "      <td>-1.217079</td>\n",
       "      <td>-0.279597</td>\n",
       "    </tr>\n",
       "    <tr>\n",
       "      <th>2</th>\n",
       "      <td>0.491187</td>\n",
       "      <td>0.795140</td>\n",
       "      <td>-0.846733</td>\n",
       "      <td>2.174405</td>\n",
       "      <td>-1.038638</td>\n",
       "      <td>-0.526262</td>\n",
       "      <td>-2.239829</td>\n",
       "      <td>3.551340</td>\n",
       "    </tr>\n",
       "    <tr>\n",
       "      <th>3</th>\n",
       "      <td>0.491187</td>\n",
       "      <td>0.795140</td>\n",
       "      <td>-0.846733</td>\n",
       "      <td>2.174405</td>\n",
       "      <td>-1.038638</td>\n",
       "      <td>-0.526262</td>\n",
       "      <td>-2.239829</td>\n",
       "      <td>5.055221</td>\n",
       "    </tr>\n",
       "    <tr>\n",
       "      <th>4</th>\n",
       "      <td>-0.790075</td>\n",
       "      <td>0.678079</td>\n",
       "      <td>-0.846733</td>\n",
       "      <td>0.488555</td>\n",
       "      <td>-1.038638</td>\n",
       "      <td>0.070492</td>\n",
       "      <td>0.647569</td>\n",
       "      <td>4.976069</td>\n",
       "    </tr>\n",
       "  </tbody>\n",
       "</table>\n",
       "</div>"
      ],
      "text/plain": [
       "     Cement  Blast Furnace Slag   Fly Ash     Water  Superplasticizer  \\\n",
       "0  2.476712           -0.856472 -0.846733 -0.916319         -0.620147   \n",
       "1  2.476712           -0.856472 -0.846733 -0.916319         -0.620147   \n",
       "2  0.491187            0.795140 -0.846733  2.174405         -1.038638   \n",
       "3  0.491187            0.795140 -0.846733  2.174405         -1.038638   \n",
       "4 -0.790075            0.678079 -0.846733  0.488555         -1.038638   \n",
       "\n",
       "   Coarse Aggregate  Fine Aggregate       Age  \n",
       "0          0.862735       -1.217079 -0.279597  \n",
       "1          1.055651       -1.217079 -0.279597  \n",
       "2         -0.526262       -2.239829  3.551340  \n",
       "3         -0.526262       -2.239829  5.055221  \n",
       "4          0.070492        0.647569  4.976069  "
      ]
     },
     "execution_count": 216,
     "metadata": {},
     "output_type": "execute_result"
    }
   ],
   "source": [
    "#Finally, the last step is to normalize the data by substracting the mean and dividing by the standard deviation.\n",
    "predictors_norm = (predictors - predictors.mean()) / predictors.std()\n",
    "predictors_norm.head()\n"
   ]
  },
  {
   "cell_type": "code",
   "execution_count": 217,
   "metadata": {
    "tags": []
   },
   "outputs": [],
   "source": [
    "n_cols = predictors_norm.shape[1] # number of predictors\n"
   ]
  },
  {
   "cell_type": "markdown",
   "metadata": {},
   "source": [
    "<a id=\"item1\"></a>\n"
   ]
  },
  {
   "cell_type": "markdown",
   "metadata": {},
   "source": [
    "<a id='item32'></a>\n"
   ]
  },
  {
   "cell_type": "markdown",
   "metadata": {},
   "source": [
    "## Import Keras\n"
   ]
  },
  {
   "cell_type": "markdown",
   "metadata": {},
   "source": [
    "Recall from the videos that Keras normally runs on top of a low-level library such as TensorFlow. This means that to be able to use the Keras library, you will have to install TensorFlow first and when you import the Keras library, it will be explicitly displayed what backend was used to install the Keras library. In CC Labs, we used TensorFlow as the backend to install Keras, so it should clearly print that when we import Keras.\n"
   ]
  },
  {
   "cell_type": "markdown",
   "metadata": {},
   "source": [
    "#### Let's go ahead and import the Keras library\n"
   ]
  },
  {
   "cell_type": "code",
   "execution_count": 218,
   "metadata": {
    "tags": []
   },
   "outputs": [],
   "source": [
    "import keras"
   ]
  },
  {
   "cell_type": "markdown",
   "metadata": {},
   "source": [
    "As you can see, the TensorFlow backend was used to install the Keras library.\n"
   ]
  },
  {
   "cell_type": "markdown",
   "metadata": {},
   "source": [
    "Let's import the rest of the packages from the Keras library that we will need to build our regressoin model.\n"
   ]
  },
  {
   "cell_type": "code",
   "execution_count": 219,
   "metadata": {
    "tags": []
   },
   "outputs": [],
   "source": [
    "from keras.models import Sequential\n",
    "from keras.layers import Dense"
   ]
  },
  {
   "cell_type": "markdown",
   "metadata": {},
   "source": [
    "<a id='item33'></a>\n"
   ]
  },
  {
   "cell_type": "markdown",
   "metadata": {},
   "source": [
    "## Build a Neural Network\n"
   ]
  },
  {
   "cell_type": "markdown",
   "metadata": {},
   "source": [
    "Let's define a function that defines our regression model for us so that we can conveniently call it to create our model.\n"
   ]
  },
  {
   "cell_type": "code",
   "execution_count": 220,
   "metadata": {
    "tags": []
   },
   "outputs": [],
   "source": [
    "# define regression model\n",
    "def regression_model():\n",
    "    # create model\n",
    "    model = Sequential()\n",
    "    model.add(Dense(10, activation='relu', input_shape=(ncols,)))\n",
    "    #model.add(Dense(50, activation='relu'))\n",
    "    model.add(Dense(1))\n",
    "    \n",
    "    # compile model\n",
    "    model.compile(optimizer='adam', loss='mean_squared_error')\n",
    "    return model"
   ]
  },
  {
   "cell_type": "markdown",
   "metadata": {},
   "source": [
    "The above function create a model that has one hidden layers, each of 10 hidden units.\n"
   ]
  },
  {
   "cell_type": "markdown",
   "metadata": {},
   "source": [
    "<a id=\"item4\"></a>\n"
   ]
  },
  {
   "cell_type": "markdown",
   "metadata": {},
   "source": [
    "<a id='item34'></a>\n"
   ]
  },
  {
   "cell_type": "markdown",
   "metadata": {},
   "source": [
    "## Train and Test the Network\n"
   ]
  },
  {
   "cell_type": "markdown",
   "metadata": {},
   "source": [
    "Let's Split data into training and test sets.\n"
   ]
  },
  {
   "cell_type": "code",
   "execution_count": 221,
   "metadata": {
    "tags": []
   },
   "outputs": [
    {
     "name": "stdout",
     "output_type": "stream",
     "text": [
      "        Cement  Blast Furnace Slag   Fly Ash     Water  Superplasticizer  \\\n",
      "0     2.476712           -0.856472 -0.846733 -0.916319         -0.620147   \n",
      "1     2.476712           -0.856472 -0.846733 -0.916319         -0.620147   \n",
      "2     0.491187            0.795140 -0.846733  2.174405         -1.038638   \n",
      "3     0.491187            0.795140 -0.846733  2.174405         -1.038638   \n",
      "4    -0.790075            0.678079 -0.846733  0.488555         -1.038638   \n",
      "...        ...                 ...       ...       ...               ...   \n",
      "1025 -0.045623            0.487998  0.564271 -0.092126          0.451190   \n",
      "1026  0.392628           -0.856472  0.959602  0.675872          0.702285   \n",
      "1027 -1.269472            0.759210  0.850222  0.521336         -0.017520   \n",
      "1028 -1.168042            1.307430 -0.846733 -0.279443          0.852942   \n",
      "1029 -0.193939            0.308349  0.376762  0.891286          0.400971   \n",
      "\n",
      "      Coarse Aggregate  Fine Aggregate       Age  \n",
      "0             0.862735       -1.217079 -0.279597  \n",
      "1             1.055651       -1.217079 -0.279597  \n",
      "2            -0.526262       -2.239829  3.551340  \n",
      "3            -0.526262       -2.239829  5.055221  \n",
      "4             0.070492        0.647569  4.976069  \n",
      "...                ...             ...       ...  \n",
      "1025         -1.322363       -0.065861 -0.279597  \n",
      "1026         -1.993711        0.496651 -0.279597  \n",
      "1027         -1.035561        0.080068 -0.279597  \n",
      "1028          0.214537        0.191074 -0.279597  \n",
      "1029         -1.394385       -0.150675 -0.279597  \n",
      "\n",
      "[1030 rows x 8 columns]\n"
     ]
    }
   ],
   "source": [
    "import numpy as np\n",
    "from sklearn.model_selection import train_test_split\n",
    "from sklearn.metrics import mean_squared_error\n",
    "\n",
    "print(predictors_norm)"
   ]
  },
  {
   "cell_type": "code",
   "execution_count": 222,
   "metadata": {
    "tags": []
   },
   "outputs": [],
   "source": [
    "#split the data into training and test set \n",
    "X_train, X_test, y_train, y_test = train_test_split(predictors_norm, target, test_size=0.30, random_state=42)"
   ]
  },
  {
   "cell_type": "code",
   "execution_count": 223,
   "metadata": {
    "tags": []
   },
   "outputs": [
    {
     "name": "stdout",
     "output_type": "stream",
     "text": [
      "(721, 8)\n",
      "(309, 8)\n",
      "(721,)\n",
      "(309,)\n"
     ]
    }
   ],
   "source": [
    "print(X_train.shape)\n",
    "print(X_test.shape)\n",
    "print(y_train.shape)\n",
    "print(y_test.shape)"
   ]
  },
  {
   "cell_type": "code",
   "execution_count": 224,
   "metadata": {
    "tags": []
   },
   "outputs": [],
   "source": [
    "# build the model\n",
    "model = regression_model()"
   ]
  },
  {
   "cell_type": "markdown",
   "metadata": {},
   "source": [
    "Next, we will train and test the model at the same time using the *fit* method. We will leave out 30% of the data for validation and we will train the model for 50 epochs.\n"
   ]
  },
  {
   "cell_type": "code",
   "execution_count": 226,
   "metadata": {
    "tags": []
   },
   "outputs": [
    {
     "name": "stdout",
     "output_type": "stream",
     "text": [
      "Train on 504 samples, validate on 217 samples\n",
      "Epoch 1/100\n",
      " - 0s - loss: 772.2417 - val_loss: 717.2905\n",
      "Epoch 2/100\n",
      " - 0s - loss: 750.0598 - val_loss: 697.1669\n",
      "Epoch 3/100\n",
      " - 0s - loss: 728.3811 - val_loss: 676.9986\n",
      "Epoch 4/100\n",
      " - 0s - loss: 707.0036 - val_loss: 657.2732\n",
      "Epoch 5/100\n",
      " - 0s - loss: 685.8701 - val_loss: 637.7840\n",
      "Epoch 6/100\n",
      " - 0s - loss: 665.1711 - val_loss: 618.9713\n",
      "Epoch 7/100\n",
      " - 0s - loss: 645.3066 - val_loss: 600.3173\n",
      "Epoch 8/100\n",
      " - 0s - loss: 625.2896 - val_loss: 582.3871\n",
      "Epoch 9/100\n",
      " - 0s - loss: 606.2241 - val_loss: 564.4461\n",
      "Epoch 10/100\n",
      " - 0s - loss: 587.4276 - val_loss: 546.9002\n",
      "Epoch 11/100\n",
      " - 0s - loss: 569.2217 - val_loss: 529.7658\n",
      "Epoch 12/100\n",
      " - 0s - loss: 551.5859 - val_loss: 512.8090\n",
      "Epoch 13/100\n",
      " - 0s - loss: 534.1836 - val_loss: 496.8550\n",
      "Epoch 14/100\n",
      " - 0s - loss: 517.5500 - val_loss: 481.1758\n",
      "Epoch 15/100\n",
      " - 0s - loss: 501.4475 - val_loss: 465.8988\n",
      "Epoch 16/100\n",
      " - 0s - loss: 485.8761 - val_loss: 450.7315\n",
      "Epoch 17/100\n",
      " - 0s - loss: 470.2543 - val_loss: 436.6921\n",
      "Epoch 18/100\n",
      " - 0s - loss: 455.8114 - val_loss: 422.6621\n",
      "Epoch 19/100\n",
      " - 0s - loss: 441.7449 - val_loss: 408.8514\n",
      "Epoch 20/100\n",
      " - 0s - loss: 427.7219 - val_loss: 396.0002\n",
      "Epoch 21/100\n",
      " - 0s - loss: 414.8149 - val_loss: 383.3038\n",
      "Epoch 22/100\n",
      " - 0s - loss: 402.1305 - val_loss: 370.9855\n",
      "Epoch 23/100\n",
      " - 0s - loss: 390.1071 - val_loss: 359.1898\n",
      "Epoch 24/100\n",
      " - 0s - loss: 378.1645 - val_loss: 347.9921\n",
      "Epoch 25/100\n",
      " - 0s - loss: 366.9162 - val_loss: 337.2641\n",
      "Epoch 26/100\n",
      " - 0s - loss: 356.3065 - val_loss: 326.6813\n",
      "Epoch 27/100\n",
      " - 0s - loss: 345.8950 - val_loss: 316.7349\n",
      "Epoch 28/100\n",
      " - 0s - loss: 336.1952 - val_loss: 306.9367\n",
      "Epoch 29/100\n",
      " - 0s - loss: 326.4555 - val_loss: 297.8312\n",
      "Epoch 30/100\n",
      " - 0s - loss: 317.7211 - val_loss: 288.7189\n",
      "Epoch 31/100\n",
      " - 0s - loss: 308.7445 - val_loss: 280.4210\n",
      "Epoch 32/100\n",
      " - 0s - loss: 300.7953 - val_loss: 272.1258\n",
      "Epoch 33/100\n",
      " - 0s - loss: 292.7097 - val_loss: 264.4295\n",
      "Epoch 34/100\n",
      " - 0s - loss: 285.2550 - val_loss: 257.1446\n",
      "Epoch 35/100\n",
      " - 0s - loss: 278.0864 - val_loss: 250.1014\n",
      "Epoch 36/100\n",
      " - 0s - loss: 271.2538 - val_loss: 243.4503\n",
      "Epoch 37/100\n",
      " - 0s - loss: 264.8099 - val_loss: 236.9289\n",
      "Epoch 38/100\n",
      " - 0s - loss: 258.4532 - val_loss: 230.9311\n",
      "Epoch 39/100\n",
      " - 0s - loss: 252.7360 - val_loss: 225.0926\n",
      "Epoch 40/100\n",
      " - 0s - loss: 246.8516 - val_loss: 219.8371\n",
      "Epoch 41/100\n",
      " - 0s - loss: 241.7214 - val_loss: 214.6378\n",
      "Epoch 42/100\n",
      " - 0s - loss: 236.5258 - val_loss: 209.7444\n",
      "Epoch 43/100\n",
      " - 0s - loss: 231.8929 - val_loss: 204.9058\n",
      "Epoch 44/100\n",
      " - 0s - loss: 227.1632 - val_loss: 200.6518\n",
      "Epoch 45/100\n",
      " - 0s - loss: 222.8127 - val_loss: 196.5863\n",
      "Epoch 46/100\n",
      " - 0s - loss: 218.7932 - val_loss: 192.5656\n",
      "Epoch 47/100\n",
      " - 0s - loss: 214.8752 - val_loss: 188.7741\n",
      "Epoch 48/100\n",
      " - 0s - loss: 210.9321 - val_loss: 185.4915\n",
      "Epoch 49/100\n",
      " - 0s - loss: 207.5690 - val_loss: 182.1431\n",
      "Epoch 50/100\n",
      " - 0s - loss: 204.1665 - val_loss: 179.1673\n",
      "Epoch 51/100\n",
      " - 0s - loss: 200.9500 - val_loss: 176.3571\n",
      "Epoch 52/100\n",
      " - 0s - loss: 198.0360 - val_loss: 173.6671\n",
      "Epoch 53/100\n",
      " - 0s - loss: 195.1786 - val_loss: 171.2626\n",
      "Epoch 54/100\n",
      " - 0s - loss: 192.5918 - val_loss: 168.8842\n",
      "Epoch 55/100\n",
      " - 0s - loss: 189.9524 - val_loss: 166.8183\n",
      "Epoch 56/100\n",
      " - 0s - loss: 187.6083 - val_loss: 164.7875\n",
      "Epoch 57/100\n",
      " - 0s - loss: 185.2689 - val_loss: 162.9995\n",
      "Epoch 58/100\n",
      " - 0s - loss: 183.1748 - val_loss: 161.2654\n",
      "Epoch 59/100\n",
      " - 0s - loss: 180.9729 - val_loss: 159.7358\n",
      "Epoch 60/100\n",
      " - 0s - loss: 179.1756 - val_loss: 158.1124\n",
      "Epoch 61/100\n",
      " - 0s - loss: 177.1779 - val_loss: 156.7925\n",
      "Epoch 62/100\n",
      " - 0s - loss: 175.5253 - val_loss: 155.5859\n",
      "Epoch 63/100\n",
      " - 0s - loss: 173.8504 - val_loss: 154.2709\n",
      "Epoch 64/100\n",
      " - 0s - loss: 172.1849 - val_loss: 153.1854\n",
      "Epoch 65/100\n",
      " - 0s - loss: 170.7000 - val_loss: 152.0880\n",
      "Epoch 66/100\n",
      " - 0s - loss: 169.2952 - val_loss: 151.0703\n",
      "Epoch 67/100\n",
      " - 0s - loss: 167.8261 - val_loss: 150.1308\n",
      "Epoch 68/100\n",
      " - 0s - loss: 166.5863 - val_loss: 149.1708\n",
      "Epoch 69/100\n",
      " - 0s - loss: 165.1916 - val_loss: 148.4979\n",
      "Epoch 70/100\n",
      " - 0s - loss: 164.0416 - val_loss: 147.8251\n",
      "Epoch 71/100\n",
      " - 0s - loss: 162.7943 - val_loss: 147.0963\n",
      "Epoch 72/100\n",
      " - 0s - loss: 161.6461 - val_loss: 146.3799\n",
      "Epoch 73/100\n",
      " - 0s - loss: 160.5196 - val_loss: 145.6983\n",
      "Epoch 74/100\n",
      " - 0s - loss: 159.5638 - val_loss: 145.1784\n",
      "Epoch 75/100\n",
      " - 0s - loss: 158.5223 - val_loss: 144.6844\n",
      "Epoch 76/100\n",
      " - 0s - loss: 157.6119 - val_loss: 144.1844\n",
      "Epoch 77/100\n",
      " - 0s - loss: 156.5997 - val_loss: 143.7904\n",
      "Epoch 78/100\n",
      " - 0s - loss: 155.7347 - val_loss: 143.3551\n",
      "Epoch 79/100\n",
      " - 0s - loss: 154.8436 - val_loss: 142.9807\n",
      "Epoch 80/100\n",
      " - 0s - loss: 154.0382 - val_loss: 142.6302\n",
      "Epoch 81/100\n",
      " - 0s - loss: 153.1646 - val_loss: 142.3686\n",
      "Epoch 82/100\n",
      " - 0s - loss: 152.3570 - val_loss: 141.9736\n",
      "Epoch 83/100\n",
      " - 0s - loss: 151.5343 - val_loss: 141.6266\n",
      "Epoch 84/100\n",
      " - 0s - loss: 150.7863 - val_loss: 141.4507\n",
      "Epoch 85/100\n",
      " - 0s - loss: 149.9842 - val_loss: 141.1444\n",
      "Epoch 86/100\n",
      " - 0s - loss: 149.2849 - val_loss: 140.7884\n",
      "Epoch 87/100\n",
      " - 0s - loss: 148.4927 - val_loss: 140.5008\n",
      "Epoch 88/100\n",
      " - 0s - loss: 147.7530 - val_loss: 140.2222\n",
      "Epoch 89/100\n",
      " - 0s - loss: 147.0334 - val_loss: 140.0152\n",
      "Epoch 90/100\n",
      " - 0s - loss: 146.3595 - val_loss: 139.8193\n",
      "Epoch 91/100\n",
      " - 0s - loss: 145.5747 - val_loss: 139.5282\n",
      "Epoch 92/100\n",
      " - 0s - loss: 144.9602 - val_loss: 139.1463\n",
      "Epoch 93/100\n",
      " - 0s - loss: 144.2155 - val_loss: 138.9410\n",
      "Epoch 94/100\n",
      " - 0s - loss: 143.5423 - val_loss: 138.6988\n",
      "Epoch 95/100\n",
      " - 0s - loss: 142.8440 - val_loss: 138.4105\n",
      "Epoch 96/100\n",
      " - 0s - loss: 142.1544 - val_loss: 138.0629\n",
      "Epoch 97/100\n",
      " - 0s - loss: 141.4736 - val_loss: 137.8337\n",
      "Epoch 98/100\n",
      " - 0s - loss: 140.8872 - val_loss: 137.6808\n",
      "Epoch 99/100\n",
      " - 0s - loss: 140.1536 - val_loss: 137.3347\n",
      "Epoch 100/100\n",
      " - 0s - loss: 139.5685 - val_loss: 137.0707\n"
     ]
    },
    {
     "data": {
      "text/plain": [
       "<keras.callbacks.History at 0x7f9e981599d0>"
      ]
     },
     "execution_count": 226,
     "metadata": {},
     "output_type": "execute_result"
    }
   ],
   "source": [
    "# fit the model\n",
    "model.fit(X_train, y_train, validation_split=0.3, epochs=100, verbose=2)"
   ]
  },
  {
   "cell_type": "code",
   "execution_count": 227,
   "metadata": {
    "tags": []
   },
   "outputs": [
    {
     "name": "stdout",
     "output_type": "stream",
     "text": [
      "142.6932283163532\n"
     ]
    }
   ],
   "source": [
    "#evaludate the model with Mean_squared_error\n",
    "model.evaluate(X_test, y_test, verbose=0)\n",
    "\n",
    "#calculate MSE for the model \n",
    "y_pred=model.predict(X_test)\n",
    "print(mean_squared_error(y_test, y_pred))"
   ]
  },
  {
   "cell_type": "code",
   "execution_count": 228,
   "metadata": {
    "tags": []
   },
   "outputs": [
    {
     "name": "stdout",
     "output_type": "stream",
     "text": [
      "Epoch 1/100, MSE: 142.00571982732868\n",
      "Epoch 2/100, MSE: 141.3941825368123\n",
      "Epoch 3/100, MSE: 140.65495775479246\n",
      "Epoch 4/100, MSE: 140.2515303447833\n",
      "Epoch 5/100, MSE: 139.54931663089837\n",
      "Epoch 6/100, MSE: 138.8769190125961\n",
      "Epoch 7/100, MSE: 138.14319425782958\n",
      "Epoch 8/100, MSE: 137.44995068842806\n",
      "Epoch 9/100, MSE: 136.80637426934948\n",
      "Epoch 10/100, MSE: 136.21542309511136\n",
      "Epoch 11/100, MSE: 135.51901443084085\n",
      "Epoch 12/100, MSE: 134.81598003870755\n",
      "Epoch 13/100, MSE: 134.19254547569565\n",
      "Epoch 14/100, MSE: 133.3858177785203\n",
      "Epoch 15/100, MSE: 132.81730926167384\n",
      "Epoch 16/100, MSE: 132.03181374822634\n",
      "Epoch 17/100, MSE: 131.51646858301154\n",
      "Epoch 18/100, MSE: 130.71563144488292\n",
      "Epoch 19/100, MSE: 130.09308896070544\n",
      "Epoch 20/100, MSE: 129.67902429919235\n",
      "Epoch 21/100, MSE: 128.90530050018444\n",
      "Epoch 22/100, MSE: 128.16935077218392\n",
      "Epoch 23/100, MSE: 127.8179520774663\n",
      "Epoch 24/100, MSE: 126.91762915798097\n",
      "Epoch 25/100, MSE: 126.22379573723326\n",
      "Epoch 26/100, MSE: 125.47932603501245\n",
      "Epoch 27/100, MSE: 124.65401875744787\n",
      "Epoch 28/100, MSE: 124.10083095845128\n",
      "Epoch 29/100, MSE: 123.44342862398602\n",
      "Epoch 30/100, MSE: 122.58173735891019\n",
      "Epoch 31/100, MSE: 122.07892558952892\n",
      "Epoch 32/100, MSE: 121.56403179183866\n",
      "Epoch 33/100, MSE: 120.73314273516677\n",
      "Epoch 34/100, MSE: 120.30849458567087\n",
      "Epoch 35/100, MSE: 119.56782515428294\n",
      "Epoch 36/100, MSE: 118.99466045061499\n",
      "Epoch 37/100, MSE: 118.42964488426529\n",
      "Epoch 38/100, MSE: 117.59812015404968\n",
      "Epoch 39/100, MSE: 117.0278892019992\n",
      "Epoch 40/100, MSE: 116.31352444652434\n",
      "Epoch 41/100, MSE: 115.87394055685725\n",
      "Epoch 42/100, MSE: 115.45736654772337\n",
      "Epoch 43/100, MSE: 114.80312866167392\n",
      "Epoch 44/100, MSE: 114.13278307932514\n",
      "Epoch 45/100, MSE: 113.57107727235172\n",
      "Epoch 46/100, MSE: 112.97086754645501\n",
      "Epoch 47/100, MSE: 112.65460708503952\n",
      "Epoch 48/100, MSE: 111.91358691385716\n",
      "Epoch 49/100, MSE: 111.36855858722781\n",
      "Epoch 50/100, MSE: 110.84158016839405\n",
      "Epoch 51/100, MSE: 110.54404342086872\n",
      "Epoch 52/100, MSE: 109.84070458149183\n",
      "Epoch 53/100, MSE: 109.42975920740056\n",
      "Epoch 54/100, MSE: 108.75031365647125\n",
      "Epoch 55/100, MSE: 108.35074390876194\n",
      "Epoch 56/100, MSE: 107.8422386431553\n",
      "Epoch 57/100, MSE: 107.54153945231717\n",
      "Epoch 58/100, MSE: 106.91275778422371\n",
      "Epoch 59/100, MSE: 106.41338484092651\n",
      "Epoch 60/100, MSE: 105.97772105378723\n",
      "Epoch 61/100, MSE: 105.40120431897151\n",
      "Epoch 62/100, MSE: 104.9192817449171\n",
      "Epoch 63/100, MSE: 104.56084812217449\n",
      "Epoch 64/100, MSE: 103.93653217717494\n",
      "Epoch 65/100, MSE: 103.71913496487444\n",
      "Epoch 66/100, MSE: 103.24023828659087\n",
      "Epoch 67/100, MSE: 102.69080822338243\n",
      "Epoch 68/100, MSE: 102.24943897288982\n",
      "Epoch 69/100, MSE: 101.78488800137055\n",
      "Epoch 70/100, MSE: 101.46828005263104\n",
      "Epoch 71/100, MSE: 101.10731009707565\n",
      "Epoch 72/100, MSE: 100.74751524327843\n",
      "Epoch 73/100, MSE: 100.08998384615813\n",
      "Epoch 74/100, MSE: 99.80136633642813\n",
      "Epoch 75/100, MSE: 99.46409693089707\n",
      "Epoch 76/100, MSE: 99.17137225999754\n",
      "Epoch 77/100, MSE: 98.55460786104275\n",
      "Epoch 78/100, MSE: 98.2476330824158\n",
      "Epoch 79/100, MSE: 97.83835351402965\n",
      "Epoch 80/100, MSE: 97.4076834375611\n",
      "Epoch 81/100, MSE: 96.99297668484886\n",
      "Epoch 82/100, MSE: 96.47653562656538\n",
      "Epoch 83/100, MSE: 96.32677825914429\n",
      "Epoch 84/100, MSE: 95.95921910287178\n",
      "Epoch 85/100, MSE: 95.58610605589442\n",
      "Epoch 86/100, MSE: 95.02459651501549\n",
      "Epoch 87/100, MSE: 94.91284497538437\n",
      "Epoch 88/100, MSE: 94.35270044380411\n",
      "Epoch 89/100, MSE: 94.08290722681903\n",
      "Epoch 90/100, MSE: 93.73926820405633\n",
      "Epoch 91/100, MSE: 93.44528460447019\n",
      "Epoch 92/100, MSE: 92.92539849840978\n",
      "Epoch 93/100, MSE: 92.70636501056819\n",
      "Epoch 94/100, MSE: 92.40365752337038\n",
      "Epoch 95/100, MSE: 92.02300185528426\n",
      "Epoch 96/100, MSE: 91.62415809440961\n",
      "Epoch 97/100, MSE: 91.14400929356592\n",
      "Epoch 98/100, MSE: 90.88182474885596\n",
      "Epoch 99/100, MSE: 90.34685396582883\n",
      "Epoch 100/100, MSE: 90.10632494651864\n"
     ]
    }
   ],
   "source": [
    "# Train the model with epoc=50 & calcute the MSE for each epoch \n",
    "num_epochs = 100\n",
    "mse_list = []\n",
    "for epoch in range(num_epochs):\n",
    "    # Train the model on the training data\n",
    "    model.fit(X_train, y_train, epochs=1, verbose=0)\n",
    "\n",
    "    # Make predictions on the validation set\n",
    "    y_pred = model.predict(X_test)\n",
    "\n",
    "    # Calculate mean squared error for the current epoch\n",
    "    mse = mean_squared_error(y_test, y_pred)\n",
    "    mse_list.append(mse)\n",
    "    \n",
    "    print(f'Epoch {epoch + 1}/{num_epochs}, MSE: {mse}')"
   ]
  },
  {
   "cell_type": "code",
   "execution_count": 229,
   "metadata": {
    "tags": []
   },
   "outputs": [
    {
     "name": "stdout",
     "output_type": "stream",
     "text": [
      "Mean MSE: 112.79675983490043\n",
      "Standard Deviation of MSE: 15.356026451474316\n"
     ]
    }
   ],
   "source": [
    "# Calculate mean and standard deviation of MSEs\n",
    "\n",
    "mean_mse = np.mean(mse_list)\n",
    "std_mse = np.std(mse_list)\n",
    "print(f'Mean MSE: {mean_mse}')\n",
    "print(f'Standard Deviation of MSE: {std_mse}')"
   ]
  },
  {
   "cell_type": "code",
   "execution_count": null,
   "metadata": {},
   "outputs": [],
   "source": []
  },
  {
   "cell_type": "code",
   "execution_count": null,
   "metadata": {},
   "outputs": [],
   "source": []
  }
 ],
 "metadata": {
  "kernelspec": {
   "display_name": "Python",
   "language": "python",
   "name": "conda-env-python-py"
  },
  "language_info": {
   "codemirror_mode": {
    "name": "ipython",
    "version": 3
   },
   "file_extension": ".py",
   "mimetype": "text/x-python",
   "name": "python",
   "nbconvert_exporter": "python",
   "pygments_lexer": "ipython3",
   "version": "3.7.12"
  }
 },
 "nbformat": 4,
 "nbformat_minor": 4
}
